{
  "cells": [
    {
      "cell_type": "markdown",
      "metadata": {
        "id": "AyOlWS2nRWxH"
      },
      "source": [
        "## PRACTICA OBLIGATORIA: COLECCIONES Y FUNCIONES"
      ]
    },
    {
      "cell_type": "markdown",
      "metadata": {
        "id": "6UOgb0KVRWxH"
      },
      "source": [
        "* La práctica obligatoria de esta unidad consiste varios ejercicios de programación libre a completar sobre Colecciones y Funciones. Descarga este notebook en tu ordenador y trabaja en local.  \n",
        "* Recuerda que debes subirla a tu repositorio personal antes de la sesión en vivo para que puntúe adecuadamente y puedas participar en dicha sesión.  \n",
        "* Recuerda también que no es necesario que esté perfecta, sólo es necesario que se vea el esfuerzo.\n",
        "* Esta práctica se resolverá en la sesión en vivo correspondiente y la solución se publicará en el repo del curso."
      ]
    },
    {
      "cell_type": "markdown",
      "metadata": {
        "id": "j3yu-tEjRWxH"
      },
      "source": [
        "### Contenidos"
      ]
    },
    {
      "cell_type": "markdown",
      "metadata": {
        "id": "kO-fLH39RWxH"
      },
      "source": [
        "## Ejercicio 1\n",
        "Eleva todos los elementos de la lista al cuadrado\n",
        "> ```ejer_2 = [1,2,3,4,5]```"
      ]
    },
    {
      "cell_type": "code",
      "execution_count": null,
      "metadata": {
        "id": "ks5l3yi7RWxH",
        "colab": {
          "base_uri": "https://localhost:8080/"
        },
        "outputId": "a2fcf4ca-c515-4f53-c145-bb7b058e436d"
      },
      "outputs": [
        {
          "output_type": "stream",
          "name": "stdout",
          "text": [
            "[1, 4, 9, 16, 25]\n"
          ]
        }
      ],
      "source": [
        "ejer_2 =[1,2,3,4,5]\n",
        "ejer_2_cuadrado = [x**2 for x in ejer_2]\n",
        "print(ejer_2_cuadrado)\n"
      ]
    },
    {
      "cell_type": "markdown",
      "metadata": {
        "id": "kI_Xr5oFRWxI"
      },
      "source": [
        "## Ejercicio 2\n",
        "Haz un programa que detecte todos los duplicados de un elemento en una lista:\n",
        "* Utiliza una variable duplicado para asignarle el valor del elemento del que queremos encontrar todos sus duplicados.\n",
        "* El programa debe devolver todos los índices de los elementos duplicados.\n",
        "* Aplícalo para encontrar los duplicados de \"un\", \"es\" y \"binario\" de:  \n",
        "\n",
        ">```ejer_3 = [\"Un\", \"árbol\", \"binario\", \"es\", \"una\", \"estructura\", \"de\", \"un\", \"tipo\", \"particular\", \"a\", \"veces\", \"no\", \"es\", \"ni\", \"binario\"]```\n"
      ]
    },
    {
      "cell_type": "code",
      "source": [
        "ejer_3 = [\"un\", \"árbol\", \"binario\", \"es\", \"una\", \"estructura\", \"de\", \"un\", \"tipo\", \"particular\", \"a\", \"veces\", \"no\", \"es\", \"ni\", \"binario\"]\n",
        "\n",
        "#encontrando los duplicados de \"un\"\n",
        "\n",
        "duplicado = input (\"Introduce el elemento del que quieres averiguar la posición de sus duplicados: \")\n",
        "\n",
        "indices=[]\n",
        "\n",
        "for palabra in range(len(ejer_3)):\n",
        "  if ejer_3[palabra] == duplicado:\n",
        "    indices.append(palabra)\n",
        "\n",
        "if len(indices)>1:\n",
        "  print(f\"La palabra '{duplicado}' se repite en los siguientes índices: {indices}\")"
      ],
      "metadata": {
        "colab": {
          "base_uri": "https://localhost:8080/"
        },
        "id": "7oxqS9WU1GN0",
        "outputId": "1e5ec7da-7ce1-4a47-a0df-cb94f5a8a5bc"
      },
      "execution_count": 48,
      "outputs": [
        {
          "output_type": "stream",
          "name": "stdout",
          "text": [
            "Introduce el elemento del que quieres averiguar la posición de sus duplicados: un\n",
            "La palabra 'un' se repite en los siguientes índices: [0, 7]\n"
          ]
        }
      ]
    },
    {
      "cell_type": "code",
      "source": [
        "#copiamos el código para encontrar los duplicados de \"es\":\n",
        "\n",
        "duplicado = input (\"Introduce el elemento del que quieres averiguar la posición de sus duplicados: \")\n",
        "\n",
        "indices=[]\n",
        "\n",
        "for palabra in range(len(ejer_3)):\n",
        "  if ejer_3[palabra] == duplicado:\n",
        "    indices.append(palabra)\n",
        "\n",
        "if len(indices)>1:\n",
        "  print(f\"La palabra '{duplicado}' se repite en los siguientes índices: {indices}\")"
      ],
      "metadata": {
        "colab": {
          "base_uri": "https://localhost:8080/"
        },
        "id": "z_kL1EvC2cGY",
        "outputId": "a3a62c2a-75f7-4e7a-f814-a6900dcdad82"
      },
      "execution_count": 46,
      "outputs": [
        {
          "output_type": "stream",
          "name": "stdout",
          "text": [
            "Introduce el elemento del que quieres averiguar la posición de sus duplicados: es\n",
            "La palabra 'es' se repite en los siguientes índices: [3, 13]\n"
          ]
        }
      ]
    },
    {
      "cell_type": "code",
      "source": [
        "#copiamos el código para encontrar los duplicados de \"binario\":\n",
        "\n",
        "duplicado = input (\"Introduce el elemento del que quieres averiguar la posición de sus duplicados: \")\n",
        "\n",
        "indices=[]\n",
        "\n",
        "for palabra in range(len(ejer_3)):\n",
        "  if ejer_3[palabra] == duplicado:\n",
        "    indices.append(palabra)\n",
        "\n",
        "if len(indices)>1:\n",
        "  print(f\"La palabra '{duplicado}' se repite en los siguientes índices: {indices}\")"
      ],
      "metadata": {
        "colab": {
          "base_uri": "https://localhost:8080/"
        },
        "id": "pA3stbN02bdt",
        "outputId": "4ea0738c-13eb-4b9b-ca72-37b6dc39e5ab"
      },
      "execution_count": 47,
      "outputs": [
        {
          "output_type": "stream",
          "name": "stdout",
          "text": [
            "Introduce el elemento del que quieres averiguar la posición de sus duplicados: binario\n",
            "La palabra 'binario' se repite en los siguientes índices: [2, 15]\n"
          ]
        }
      ]
    },
    {
      "cell_type": "markdown",
      "metadata": {
        "id": "3WrBd5QaRWxI"
      },
      "source": [
        "## Ejercicio 3\n",
        "1. ¿Cuántas veces se repite el 3 en la siguiente tupla?\n",
        "2. Crea una tupla nueva con los elementos desde la posicion 5 a la 10.\n",
        "3. ¿Cuántos elementos tiene la tupla `ejer_3`?\n",
        "> ```ejer_9 = (3, 20, 3, 47, 19, 3, 29, 45, 67, 78, 90, 3, 3, 5, 2, 4, 7, 9, 4, 2, 4, 3, 3, 4, 6, 7)```"
      ]
    },
    {
      "cell_type": "code",
      "execution_count": null,
      "metadata": {
        "id": "bkv_R5LYRWxI",
        "colab": {
          "base_uri": "https://localhost:8080/"
        },
        "outputId": "575d1a4b-6d18-4c6f-85ee-6d805b7d5baa"
      },
      "outputs": [
        {
          "output_type": "stream",
          "name": "stdout",
          "text": [
            "7\n",
            "(3, 29, 45, 67, 78, 90) <class 'tuple'>\n",
            "16\n"
          ]
        }
      ],
      "source": [
        "ejer_9 = (3, 20, 3, 47, 19, 3, 29, 45, 67, 78, 90, 3, 3, 5, 2, 4, 7, 9, 4, 2, 4, 3, 3, 4, 6, 7)\n",
        "\n",
        "#1\n",
        "print(ejer_9.count(3))\n",
        "\n",
        "#2\n",
        "tupla_nueva = ejer_9[5:11]\n",
        "print(tupla_nueva, type(tupla_nueva))\n",
        "\n",
        "#3\n",
        "ejer_3 = [\"Un\", \"árbol\", \"binario\", \"es\", \"una\", \"estructura\", \"de\", \"un\", \"tipo\", \"particular\", \"a\", \"veces\", \"no\", \"es\", \"ni\", \"binario\"]\n",
        "print(len(ejer_3))\n"
      ]
    },
    {
      "cell_type": "markdown",
      "metadata": {
        "id": "6g8Y54AeRWxI"
      },
      "source": [
        "## Ejercicio 4\n",
        "Comprueba si el numero 60 esta en la tupla del ejercicio 3"
      ]
    },
    {
      "cell_type": "code",
      "execution_count": null,
      "metadata": {
        "id": "F8VTEZonRWxI",
        "colab": {
          "base_uri": "https://localhost:8080/"
        },
        "outputId": "ca9f717d-92d5-41b1-aae9-6bf7c0bfffda"
      },
      "outputs": [
        {
          "output_type": "execute_result",
          "data": {
            "text/plain": [
              "0"
            ]
          },
          "metadata": {},
          "execution_count": 32
        }
      ],
      "source": [
        "ejer_9 = (3, 20, 3, 47, 19, 3, 29, 45, 67, 78, 90, 3, 3, 5, 2, 4, 7, 9, 4, 2, 4, 3, 3, 4, 6, 7)\n",
        "\n",
        "ejer_9.count(60)"
      ]
    },
    {
      "cell_type": "markdown",
      "metadata": {
        "id": "y0fg-ZA6RWxI"
      },
      "source": [
        "## Ejercicio 5\n",
        "1. Convierte la tupla del ejercicio 3 en una lista\n",
        "2. Convierte la tupla del ejercicio 3 en un set\n",
        "3. Convierte la tupla del ejercicio 3 en un diccionario. Usa también los indices"
      ]
    },
    {
      "cell_type": "code",
      "execution_count": null,
      "metadata": {
        "id": "_O5hXr01RWxI",
        "colab": {
          "base_uri": "https://localhost:8080/"
        },
        "outputId": "d6889b66-e455-4d4c-f1a4-310f4770f6ff"
      },
      "outputs": [
        {
          "output_type": "stream",
          "name": "stdout",
          "text": [
            "[3, 20, 3, 47, 19, 3, 29, 45, 67, 78, 90, 3, 3, 5, 2, 4, 7, 9, 4, 2, 4, 3, 3, 4, 6, 7] <class 'list'>\n",
            "{2, 3, 67, 5, 4, 7, 6, 9, 45, 78, 47, 19, 20, 90, 29} <class 'set'>\n",
            "<class 'dict'>\n",
            "0 : 3\n",
            "1 : 20\n",
            "2 : 3\n",
            "3 : 47\n",
            "4 : 19\n",
            "5 : 3\n",
            "6 : 29\n",
            "7 : 45\n",
            "8 : 67\n",
            "9 : 78\n",
            "10 : 90\n",
            "11 : 3\n",
            "12 : 3\n",
            "13 : 5\n",
            "14 : 2\n",
            "15 : 4\n",
            "16 : 7\n",
            "17 : 9\n",
            "18 : 4\n",
            "19 : 2\n",
            "20 : 4\n",
            "21 : 3\n",
            "22 : 3\n",
            "23 : 4\n",
            "24 : 6\n",
            "25 : 7\n"
          ]
        }
      ],
      "source": [
        "ejer_9 = (3, 20, 3, 47, 19, 3, 29, 45, 67, 78, 90, 3, 3, 5, 2, 4, 7, 9, 4, 2, 4, 3, 3, 4, 6, 7)\n",
        "\n",
        "#1\n",
        "list_ejer_9 =list(ejer_9)\n",
        "print(list_ejer_9, type(list_ejer_9))\n",
        "\n",
        "#2\n",
        "set_ejer_9 = set(ejer_9)\n",
        "print(set_ejer_9, type(set_ejer_9))\n",
        "\n",
        "#3\n",
        "dict_ejer_9 = dict(enumerate(ejer_9))\n",
        "print(type(dict_ejer_9))\n",
        "\n",
        "for i in dict_ejer_9:\n",
        "    print(i,\":\", dict_ejer_9[i])\n"
      ]
    },
    {
      "cell_type": "markdown",
      "metadata": {
        "id": "eOdWWbxvRWxJ"
      },
      "source": [
        "## Ejercicio 6\n",
        "Multiplica todos los valores del diccionario\n",
        "> ```ejer_6 = {1: 11, 2: 22, 3: 33, 4: 44, 5: 55}```"
      ]
    },
    {
      "cell_type": "code",
      "source": [
        "ejer_6 = {1: 11, 2: 22, 3: 33, 4: 44, 5: 55}\n",
        "\n",
        "print(ejer_6[1]*ejer_6[2]*ejer_6[3]*ejer_6[4]*ejer_6[5])"
      ],
      "metadata": {
        "colab": {
          "base_uri": "https://localhost:8080/"
        },
        "id": "XAIod_SD_2y1",
        "outputId": "73ba6343-7372-4b2f-f227-830baea5315c"
      },
      "execution_count": null,
      "outputs": [
        {
          "output_type": "stream",
          "name": "stdout",
          "text": [
            "19326120\n"
          ]
        }
      ]
    },
    {
      "cell_type": "markdown",
      "metadata": {
        "id": "W7TUSaKRRWxJ"
      },
      "source": [
        "## Ejercicio 7\n",
        "\n",
        "1. Crea un diccionario que describa un libro, con los siguientes campos o claves: \"titulo\",\"autor\",\"idioma original\",\"año de publicación\".\n",
        "2. Crea un a lista, llamada librería.\n",
        "3. Añade cuatro libros a tu elección a la librería."
      ]
    },
    {
      "cell_type": "code",
      "source": [
        "#1\n",
        "libro_dict={\n",
        "  \"titulo\": \"\",\n",
        "  \"autor\" : \"\",\n",
        "  \"idioma original\" : \"\",\n",
        "  \"año publicación \" : None\n",
        "}\n",
        "\n",
        "\n",
        "#2\n",
        "libreria= []\n",
        "\n",
        "#3\n",
        "libro_1 = {\n",
        "    \"titulo\": \"Orgullo y Prejuicio\",\n",
        "    \"autor\" : \"Jane Austen\",\n",
        "    \"idioma original\" : \"Inglés\",\n",
        "    \"año publicación \" : 1813\n",
        "}\n",
        "\n",
        "libro_2 = {\n",
        "    \"titulo\": \"Dracula\",\n",
        "    \"autor\" : \"Bram Stoker\",\n",
        "    \"idioma original\" : \"Inglés\",\n",
        "    \"año publicación \" : 1838\n",
        "}\n",
        "\n",
        "libro_3 = {\n",
        "    \"titulo\": \"El Club Dumas\",\n",
        "    \"autor\" : \"Arturo Perez-Reverte\",\n",
        "    \"idioma original\" : \"Español\",\n",
        "    \"año publicación \" : 1993\n",
        "}\n",
        "\n",
        "libro_4 = {\n",
        "    \"titulo\": \"Hamlet\",\n",
        "    \"autor\" : \"William Shakespeare\",\n",
        "    \"idioma original\" : \"Inglés\",\n",
        "    \"año publicación \" : 1623\n",
        "}\n",
        "\n",
        "libreria.append(libro_1)\n",
        "libreria.append(libro_2)\n",
        "libreria.append(libro_3)\n",
        "libreria.append(libro_4)\n",
        "\n",
        "\n",
        "for libro_i in libreria:\n",
        "  print(libro_i)\n"
      ],
      "metadata": {
        "colab": {
          "base_uri": "https://localhost:8080/"
        },
        "id": "IgJDjkwGU47w",
        "outputId": "fb5b8a10-449c-4ea3-df25-aa473cfcb001"
      },
      "execution_count": null,
      "outputs": [
        {
          "output_type": "stream",
          "name": "stdout",
          "text": [
            "{'titulo': 'Orgullo y Prejuicio', 'autor': 'Jane Austen', 'idioma original': 'Inglés', 'año publicación ': 1813}\n",
            "{'titulo': 'Dracula', 'autor': 'Bram Stoker', 'idioma original': 'Inglés', 'año publicación ': 1838}\n",
            "{'titulo': 'El Club Dumas', 'autor': 'Arturo Perez-Reverte', 'idioma original': 'Español', 'año publicación ': 1993}\n",
            "{'titulo': 'Hamlet', 'autor': 'William Shakespeare', 'idioma original': 'Inglés', 'año publicación ': 1623}\n"
          ]
        }
      ]
    },
    {
      "cell_type": "markdown",
      "metadata": {
        "id": "glMoedjYRWxJ"
      },
      "source": [
        "## Ejercicio 8\n",
        "Modifica los valores del idioma de todos los libros del ejercicio anterior para que sea \"esperanto\"\n"
      ]
    },
    {
      "cell_type": "code",
      "execution_count": null,
      "metadata": {
        "id": "veNdC-uwRWxJ",
        "colab": {
          "base_uri": "https://localhost:8080/"
        },
        "outputId": "05253b46-a53e-4102-8311-b3d44d5c0154"
      },
      "outputs": [
        {
          "output_type": "stream",
          "name": "stdout",
          "text": [
            "{'titulo': 'Orgullo y Prejuicio', 'autor': 'Jane Austen', 'idioma original': 'Esperanto', 'año publicación ': 1813}\n",
            "{'titulo': 'Dracula', 'autor': 'Bram Stoker', 'idioma original': 'Esperanto', 'año publicación ': 1838}\n",
            "{'titulo': 'El Club Dumas', 'autor': 'Arturo Perez-Reverte', 'idioma original': 'Esperanto', 'año publicación ': 1993}\n",
            "{'titulo': 'Hamlet', 'autor': 'William Shakespeare', 'idioma original': 'Esperanto', 'año publicación ': 1623}\n"
          ]
        }
      ],
      "source": [
        "for libro_i in libreria:\n",
        "  libro_i[\"idioma original\"] = \"Esperanto\"\n",
        "\n",
        "\n",
        "for libro_i in libreria:\n",
        "\n",
        "  print(libro_i)\n"
      ]
    },
    {
      "cell_type": "markdown",
      "metadata": {
        "id": "DRCJG04KRWxJ"
      },
      "source": [
        "## Ejercicio 9\n",
        "1. Escribe un programa que dada una variable titulo busque los libros que hay en la librería con ese título. Si no se encuentra debe devolver el mensaje `Ese no lo tengo, ¿mola?`\n",
        "2. Pruena que el programa con uno de tus libros y con otro que no contenga tu librería."
      ]
    },
    {
      "cell_type": "code",
      "source": [
        "# Buscando un libro que exite en la libreria:\n",
        "\n",
        "buscar_libro = input (\"Escriba el título de un libro: \")\n",
        "\n",
        "for libro in libreria:\n",
        "  if buscar_libro == libro[\"titulo\"]:\n",
        "    print(\"Ese libro ya está en la librería\")\n",
        "    break\n",
        "else:\n",
        "  print(\"Ese no lo tengo, mola?\")"
      ],
      "metadata": {
        "colab": {
          "base_uri": "https://localhost:8080/"
        },
        "id": "337sxXWSfu8w",
        "outputId": "4f7c8c20-e36f-41ce-cb6d-964b38366c09"
      },
      "execution_count": null,
      "outputs": [
        {
          "output_type": "stream",
          "name": "stdout",
          "text": [
            "Escriba el título de un libro: Dracula\n",
            "Ese libro ya está en la librería\n"
          ]
        }
      ]
    },
    {
      "cell_type": "code",
      "source": [
        "# Buscando un libro que no existe en la bilbioteca:\n",
        "\n",
        "buscar_libro = input (\"Escriba el título de un libro: \")\n",
        "\n",
        "for libro in libreria:\n",
        "  if buscar_libro == libro[\"titulo\"]:\n",
        "    print(\"Ese libro ya está en la librería\")\n",
        "    break\n",
        "\n",
        "else:\n",
        "  print(\"Ese no lo tengo, mola?\")"
      ],
      "metadata": {
        "colab": {
          "base_uri": "https://localhost:8080/"
        },
        "id": "HorZ5fbpdUwG",
        "outputId": "56d30c08-31d2-4aaf-bc1a-762f8275767f"
      },
      "execution_count": null,
      "outputs": [
        {
          "output_type": "stream",
          "name": "stdout",
          "text": [
            "Escriba el título de un libro: Don Quijote de la Mancha\n",
            "Ese no lo tengo, mola?\n"
          ]
        }
      ]
    },
    {
      "cell_type": "markdown",
      "metadata": {
        "id": "17YOpYuFRWxJ"
      },
      "source": [
        "## Ejercicio 10\n",
        "Convierte el programa del ejercicio 2 en una función al que se le pase el valor a buscar como un argumento posicional"
      ]
    },
    {
      "cell_type": "code",
      "source": [
        "#Haz un programa que detecte todos los duplicados de un elemento en una lista:\n",
        "\n",
        "#Utiliza una variable duplicado para asignarle el valor del elemento del que queremos encontrar todos sus duplicados.\n",
        "#El programa debe devolver todos los índices de los elementos duplicados.\n",
        "#Aplícalo para encontrar los duplicados de \"un\", \"es\" y \"binario\" de:"
      ],
      "metadata": {
        "id": "RUW54J-PJJPn"
      },
      "execution_count": null,
      "outputs": []
    },
    {
      "cell_type": "code",
      "source": [
        "def duplicados(elemento_buscar):\n",
        "\n",
        "  ejer_3 = [\"un\", \"árbol\", \"binario\", \"es\", \"una\", \"estructura\", \"de\", \"un\", \"tipo\", \"particular\", \"a\", \"veces\", \"no\", \"es\", \"ni\", \"binario\"]\n",
        "\n",
        "  indices=[]\n",
        "\n",
        "  for palabra in range(len(ejer_3)):\n",
        "    if ejer_3[palabra] == elemento_buscar:\n",
        "        indices.append(palabra)\n",
        "\n",
        "  if len(indices)>1:\n",
        "      print(f\"La palabra {elemento_buscar} se repite en los siguientes índices: {indices}\")\n",
        "\n",
        "duplicados (\"un\")\n",
        "duplicados (\"es\")\n",
        "duplicados(\"binario\")"
      ],
      "metadata": {
        "colab": {
          "base_uri": "https://localhost:8080/"
        },
        "id": "-AX4WuB3umQR",
        "outputId": "1f3007ad-73ce-42cc-9ff4-fe45afdcf470"
      },
      "execution_count": 34,
      "outputs": [
        {
          "output_type": "stream",
          "name": "stdout",
          "text": [
            "La palabra un se repite en los siguientes índices: [0, 7]\n",
            "La palabra es se repite en los siguientes índices: [3, 13]\n",
            "La palabra binario se repite en los siguientes índices: [2, 15]\n"
          ]
        }
      ]
    },
    {
      "cell_type": "markdown",
      "metadata": {
        "id": "xZ-sWJxPRWxJ"
      },
      "source": [
        "## Ejercicio 11\n",
        "Convierte el programa del ejercicio 9 en una función al que se le pasen como argumentos la librería, posicional, y el título, argumento keyword con valor \"ninguno\", por defecto."
      ]
    },
    {
      "cell_type": "code",
      "source": [
        "#Rescatamos la librería y nuestros libros del ejercicio 8\n",
        "\n",
        "#1\n",
        "libro_dict={\n",
        "  \"titulo\": \"\",\n",
        "  \"autor\" : \"\",\n",
        "  \"idioma original\" : \"\",\n",
        "  \"año publicación \" : None\n",
        "}\n",
        "\n",
        "#2\n",
        "libreria= []\n",
        "\n",
        "#3\n",
        "libro_1 = {\n",
        "    \"titulo\": \"Orgullo y Prejuicio\",\n",
        "    \"autor\" : \"Jane Austen\",\n",
        "    \"idioma original\" : \"Inglés\",\n",
        "    \"año publicación \" : 1813\n",
        "}\n",
        "\n",
        "libro_2 = {\n",
        "    \"titulo\": \"Dracula\",\n",
        "    \"autor\" : \"Bram Stoker\",\n",
        "    \"idioma original\" : \"Inglés\",\n",
        "    \"año publicación \" : 1838\n",
        "}\n",
        "\n",
        "libro_3 = {\n",
        "    \"titulo\": \"El Club Dumas\",\n",
        "    \"autor\" : \"Arturo Perez-Reverte\",\n",
        "    \"idioma original\" : \"Español\",\n",
        "    \"año publicación \" : 1993\n",
        "}\n",
        "\n",
        "libro_4 = {\n",
        "    \"titulo\": \"Hamlet\",\n",
        "    \"autor\" : \"William Shakespeare\",\n",
        "    \"idioma original\" : \"Inglés\",\n",
        "    \"año publicación \" : 1623\n",
        "}\n",
        "libreria.append(libro_1)\n",
        "libreria.append(libro_2)\n",
        "libreria.append(libro_3)\n",
        "libreria.append(libro_4)\n"
      ],
      "metadata": {
        "id": "M_ihj0ZiunfA"
      },
      "execution_count": null,
      "outputs": []
    },
    {
      "cell_type": "code",
      "source": [
        "#Escribe un programa que dada una variable titulo busque los libros que hay en la librería con ese título. Si no se encuentra debe devolver el mensaje Ese no lo tengo, ¿mola?"
      ],
      "metadata": {
        "id": "pI-XhInkv19X"
      },
      "execution_count": null,
      "outputs": []
    },
    {
      "cell_type": "code",
      "execution_count": null,
      "metadata": {
        "id": "4-JrsMdNRWxK"
      },
      "outputs": [],
      "source": [
        "#Ejercicio 11:\n",
        "#Convierte el programa del ejercicio 9 en una función al que se le pasen como argumentos la librería, posicional, y el título, argumento keyword con valor \"ninguno\", por defecto."
      ]
    },
    {
      "cell_type": "code",
      "source": [
        "def buscar_libro (libreria,**kwarg):\n",
        "\n",
        "  titulo= kwarg.get(\"titulo\")\n",
        "  existe = False\n",
        "\n",
        "  if titulo is None:\n",
        "    return None\n",
        "\n",
        "  for libro in libreria:\n",
        "    if libro.get(\"titulo\")==titulo:\n",
        "      print(\"Ese libro ya lo tengo\")\n",
        "      existe=True\n",
        "\n",
        "  if existe==False:\n",
        "      print(\"Ese libro no lo tengo, mola?\")\n",
        "\n",
        "buscar_libro(libreria)\n",
        "buscar_libro(libreria, titulo =\"Hamlet\")\n",
        "buscar_libro(libreria, titulo = \"Cien años de soledad\")"
      ],
      "metadata": {
        "colab": {
          "base_uri": "https://localhost:8080/"
        },
        "id": "mg6G1Qj_8C_R",
        "outputId": "de8c6498-1c87-4b41-ca18-821ed5725398"
      },
      "execution_count": null,
      "outputs": [
        {
          "output_type": "stream",
          "name": "stdout",
          "text": [
            "Ese libro ya lo tengo\n",
            "Ese libro no lo tengo, mola?\n"
          ]
        }
      ]
    },
    {
      "cell_type": "markdown",
      "metadata": {
        "id": "FtJir95QRWxK"
      },
      "source": [
        "## Ejercicio 12\n",
        "Solicitar al usuario que ingrese su dirección email. Imprimir un mensaje indicando si la dirección es válida o no, valiéndose de una función para decidirlo. Una dirección se considerará válida si contiene el símbolo \"@\"."
      ]
    },
    {
      "cell_type": "code",
      "source": [
        "email = input (\"Ingrese su dirección de email: \")\n",
        "\n",
        "if \"@\" in email:\n",
        "\n",
        "  print(\"La dirección de email es válida\")\n",
        "\n",
        "else:\n",
        "        print(\"La dirección de email es incorrecta\")"
      ],
      "metadata": {
        "colab": {
          "base_uri": "https://localhost:8080/"
        },
        "id": "HPzrKJSFV3XO",
        "outputId": "6bc94431-7fa0-41b3-cca6-2cef968723cb"
      },
      "execution_count": null,
      "outputs": [
        {
          "output_type": "stream",
          "name": "stdout",
          "text": [
            "Ingrese su dirección de email: abcd@gfg.com\n",
            "La dirección de email es válida\n"
          ]
        }
      ]
    },
    {
      "cell_type": "markdown",
      "metadata": {
        "id": "Kw1MWBwBRWxK"
      },
      "source": [
        "## Ejercicio 13\n",
        "Escribe una función que compruebe si un DNI es válido, devolviendo `True` en caso afirmativo.  \n",
        "En primer lugar, el DNI debe tener entre 7 y 8 dígitos numéricos.  \n",
        "Para saber si la letra del DNI es correcta puedes utilizar el siguiente fragmento de código:\n",
        ">```Python\n",
        ">DNI= 55555555\n",
        ">palabra='TRWAGMYFPDXBNJZSQVHLCKE'\n",
        ">print('La letra del DNI es: ', palabra[DNI%23])\n",
        ">````\n"
      ]
    },
    {
      "cell_type": "code",
      "source": [
        "def DNI(numero, letra):\n",
        "\n",
        "  if len (numero)== 7 or len (numero) == 8:\n",
        "    print(True)\n",
        "    numero= int(numero)\n",
        "    letra= str(letra)\n",
        "    palabra='TRWAGMYFPDXBNJZSQVHLCKE'\n",
        "    if letra == palabra[numero%23]:\n",
        "      print(True)\n",
        "    else:\n",
        "      print(False)\n",
        "\n",
        "  else:\n",
        "    print(False)\n",
        "\n",
        "DNI(\"1234567\",\"L\")\n"
      ],
      "metadata": {
        "colab": {
          "base_uri": "https://localhost:8080/"
        },
        "id": "ZDbI_q7DFvmi",
        "outputId": "2a82562a-2d3e-4c47-ee60-68ca9086288b"
      },
      "execution_count": null,
      "outputs": [
        {
          "output_type": "stream",
          "name": "stdout",
          "text": [
            "True\n",
            "True\n"
          ]
        }
      ]
    },
    {
      "cell_type": "code",
      "source": [],
      "metadata": {
        "id": "lzkt1jJMF0H1"
      },
      "execution_count": null,
      "outputs": []
    }
  ],
  "metadata": {
    "language_info": {
      "name": "python"
    },
    "orig_nbformat": 4,
    "colab": {
      "provenance": []
    },
    "kernelspec": {
      "name": "python3",
      "display_name": "Python 3"
    }
  },
  "nbformat": 4,
  "nbformat_minor": 0
}